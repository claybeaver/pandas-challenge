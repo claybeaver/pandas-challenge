{
 "cells": [
  {
   "cell_type": "markdown",
   "metadata": {},
   "source": [
    "### Heroes Of Pymoli Data Analysis\n",
    "* Of the 1163 active players, the vast majority are male (84%). There also exists, a smaller, but notable proportion of female players (14%).\n",
    "\n",
    "* Our peak age demographic falls between 20-24 (44.8%) with secondary groups falling between 15-19 (18.60%) and 25-29 (13.4%).  \n",
    "-----"
   ]
  },
  {
   "cell_type": "markdown",
   "metadata": {},
   "source": [
    "### Note\n",
    "* Instructions have been included for each segment. You do not have to follow them exactly, but they are included to help you think through the steps."
   ]
  },
  {
   "cell_type": "code",
   "execution_count": 3,
   "metadata": {},
   "outputs": [],
   "source": [
    "# Dependencies and Setup\n",
    "import pandas as pd\n",
    "\n",
    "# File to Load (Remember to Change These)\n",
    "file_to_load = \"Resources/purchase_data.csv\"\n",
    "\n",
    "# Read Purchasing File and store into Pandas data frame\n",
    "purchase_data = pd.read_csv(file_to_load)"
   ]
  },
  {
   "cell_type": "code",
   "execution_count": 4,
   "metadata": {
    "scrolled": true
   },
   "outputs": [],
   "source": [
    "#purchase_data.head(5)"
   ]
  },
  {
   "cell_type": "code",
   "execution_count": 5,
   "metadata": {},
   "outputs": [],
   "source": [
    "# UNIQUE LIST WITH SIMILAR SN's COMBINED\n",
    "aggregation_functions = {'Age': 'first', 'Gender': 'first', 'Price': 'sum'}\n",
    "purchase_data_new = purchase_data.groupby(purchase_data['SN']).aggregate(aggregation_functions)\n",
    "#purchase_data_new"
   ]
  },
  {
   "cell_type": "markdown",
   "metadata": {},
   "source": [
    "## Player Count"
   ]
  },
  {
   "cell_type": "markdown",
   "metadata": {},
   "source": [
    "* Display the total number of players\n"
   ]
  },
  {
   "cell_type": "code",
   "execution_count": 6,
   "metadata": {},
   "outputs": [
    {
     "data": {
      "text/html": [
       "<div>\n",
       "<style scoped>\n",
       "    .dataframe tbody tr th:only-of-type {\n",
       "        vertical-align: middle;\n",
       "    }\n",
       "\n",
       "    .dataframe tbody tr th {\n",
       "        vertical-align: top;\n",
       "    }\n",
       "\n",
       "    .dataframe thead th {\n",
       "        text-align: right;\n",
       "    }\n",
       "</style>\n",
       "<table border=\"1\" class=\"dataframe\">\n",
       "  <thead>\n",
       "    <tr style=\"text-align: right;\">\n",
       "      <th></th>\n",
       "      <th>Total Players</th>\n",
       "    </tr>\n",
       "  </thead>\n",
       "  <tbody>\n",
       "    <tr>\n",
       "      <th>0</th>\n",
       "      <td>576</td>\n",
       "    </tr>\n",
       "  </tbody>\n",
       "</table>\n",
       "</div>"
      ],
      "text/plain": [
       "   Total Players\n",
       "0            576"
      ]
     },
     "execution_count": 6,
     "metadata": {},
     "output_type": "execute_result"
    }
   ],
   "source": [
    "unique_players = purchase_data['SN'].nunique()\n",
    "unique_players_df = pd.DataFrame({'Total Players': [unique_players]})\n",
    "unique_players_df"
   ]
  },
  {
   "cell_type": "markdown",
   "metadata": {},
   "source": [
    "## Purchasing Analysis (Total)"
   ]
  },
  {
   "cell_type": "markdown",
   "metadata": {},
   "source": [
    "* Run basic calculations to obtain number of unique items, average price, etc.\n",
    "\n",
    "\n",
    "* Create a summary data frame to hold the results\n",
    "\n",
    "\n",
    "* Optional: give the displayed data cleaner formatting\n",
    "\n",
    "\n",
    "* Display the summary data frame\n"
   ]
  },
  {
   "cell_type": "code",
   "execution_count": 7,
   "metadata": {},
   "outputs": [
    {
     "data": {
      "text/html": [
       "<div>\n",
       "<style scoped>\n",
       "    .dataframe tbody tr th:only-of-type {\n",
       "        vertical-align: middle;\n",
       "    }\n",
       "\n",
       "    .dataframe tbody tr th {\n",
       "        vertical-align: top;\n",
       "    }\n",
       "\n",
       "    .dataframe thead th {\n",
       "        text-align: right;\n",
       "    }\n",
       "</style>\n",
       "<table border=\"1\" class=\"dataframe\">\n",
       "  <thead>\n",
       "    <tr style=\"text-align: right;\">\n",
       "      <th></th>\n",
       "      <th>Number of Unique Items</th>\n",
       "      <th>Average Price</th>\n",
       "      <th>Number of Purchases</th>\n",
       "      <th>Total Revenue</th>\n",
       "    </tr>\n",
       "  </thead>\n",
       "  <tbody>\n",
       "    <tr>\n",
       "      <th>0</th>\n",
       "      <td>179</td>\n",
       "      <td>$3.05</td>\n",
       "      <td>780</td>\n",
       "      <td>$2379.77</td>\n",
       "    </tr>\n",
       "  </tbody>\n",
       "</table>\n",
       "</div>"
      ],
      "text/plain": [
       "   Number of Unique Items Average Price  Number of Purchases Total Revenue\n",
       "0                     179         $3.05                  780      $2379.77"
      ]
     },
     "execution_count": 7,
     "metadata": {},
     "output_type": "execute_result"
    }
   ],
   "source": [
    "unique_items = purchase_data['Item ID'].nunique()\n",
    "average_price = round(purchase_data['Price'].mean(), 2)\n",
    "total_purchase = purchase_data['Purchase ID'].count()\n",
    "total_revenue = purchase_data['Price'].sum()\n",
    "purchasing_analysis_df = pd.DataFrame(\n",
    "    {'Number of Unique Items':[unique_items],\n",
    "     'Average Price':(f'${average_price}'),\n",
    "     'Number of Purchases':[total_purchase],\n",
    "     'Total Revenue':(f'${total_revenue}')\n",
    "    })\n",
    "purchasing_analysis_df"
   ]
  },
  {
   "cell_type": "markdown",
   "metadata": {},
   "source": [
    "## Gender Demographics"
   ]
  },
  {
   "cell_type": "markdown",
   "metadata": {},
   "source": [
    "* Percentage and Count of Male Players\n",
    "\n",
    "\n",
    "* Percentage and Count of Female Players\n",
    "\n",
    "\n",
    "* Percentage and Count of Other / Non-Disclosed\n",
    "\n",
    "\n"
   ]
  },
  {
   "cell_type": "code",
   "execution_count": 92,
   "metadata": {},
   "outputs": [
    {
     "data": {
      "text/html": [
       "<style  type=\"text/css\" >\n",
       "</style><table id=\"T_93d24419_a5d5_11ea_ba98_f48c5010bb88\" ><thead>    <tr>        <th class=\"blank level0\" ></th>        <th class=\"col_heading level0 col0\" >Total Count</th>        <th class=\"col_heading level0 col1\" >Percentage of Players</th>    </tr>    <tr>        <th class=\"index_name level0\" ></th>        <th class=\"blank\" ></th>        <th class=\"blank\" ></th>    </tr></thead><tbody>\n",
       "                <tr>\n",
       "                        <th id=\"T_93d24419_a5d5_11ea_ba98_f48c5010bb88level0_row0\" class=\"row_heading level0 row0\" >Male</th>\n",
       "                        <td id=\"T_93d24419_a5d5_11ea_ba98_f48c5010bb88row0_col0\" class=\"data row0 col0\" >484</td>\n",
       "                        <td id=\"T_93d24419_a5d5_11ea_ba98_f48c5010bb88row0_col1\" class=\"data row0 col1\" >84.03%</td>\n",
       "            </tr>\n",
       "            <tr>\n",
       "                        <th id=\"T_93d24419_a5d5_11ea_ba98_f48c5010bb88level0_row1\" class=\"row_heading level0 row1\" >Female</th>\n",
       "                        <td id=\"T_93d24419_a5d5_11ea_ba98_f48c5010bb88row1_col0\" class=\"data row1 col0\" >81</td>\n",
       "                        <td id=\"T_93d24419_a5d5_11ea_ba98_f48c5010bb88row1_col1\" class=\"data row1 col1\" >14.06%</td>\n",
       "            </tr>\n",
       "            <tr>\n",
       "                        <th id=\"T_93d24419_a5d5_11ea_ba98_f48c5010bb88level0_row2\" class=\"row_heading level0 row2\" >Other / Non-Disclosed</th>\n",
       "                        <td id=\"T_93d24419_a5d5_11ea_ba98_f48c5010bb88row2_col0\" class=\"data row2 col0\" >11</td>\n",
       "                        <td id=\"T_93d24419_a5d5_11ea_ba98_f48c5010bb88row2_col1\" class=\"data row2 col1\" >1.91%</td>\n",
       "            </tr>\n",
       "    </tbody></table>"
      ],
      "text/plain": [
       "<pandas.io.formats.style.Styler at 0x19e0d8ee4f0>"
      ]
     },
     "execution_count": 92,
     "metadata": {},
     "output_type": "execute_result"
    }
   ],
   "source": [
    "unique_master = purchase_data.groupby(['SN'])\n",
    "unique_master = unique_master.first()\n",
    "gender_count = unique_master.groupby(['Gender']).size()\n",
    "male_count = gender_count['Male']\n",
    "female_count = gender_count['Female']\n",
    "other_count = gender_count['Other / Non-Disclosed']\n",
    "male_perc = male_count/unique_players\n",
    "female_perc = female_count/unique_players\n",
    "other_perc = other_count/unique_players\n",
    "genderdemo_df = pd.DataFrame(\n",
    "    {'':['Male', 'Female', 'Other / Non-Disclosed'],\n",
    "     'Total Count':[male_count, female_count, other_count],\n",
    "     'Percentage of Players':[male_perc, female_perc, other_perc]\n",
    "    })\n",
    "genderdemo_df2 = genderdemo_df.set_index([''])\n",
    "format_dict = {'Percentage of Players': '{:.2%}'}\n",
    "genderdemo_df2.style.format(format_dict)"
   ]
  },
  {
   "cell_type": "markdown",
   "metadata": {},
   "source": [
    "\n",
    "## Purchasing Analysis (Gender)"
   ]
  },
  {
   "cell_type": "markdown",
   "metadata": {},
   "source": [
    "* Run basic calculations to obtain purchase count, avg. purchase price, avg. purchase total per person etc. by gender\n",
    "\n",
    "\n",
    "\n",
    "\n",
    "* Create a summary data frame to hold the results\n",
    "\n",
    "\n",
    "* Optional: give the displayed data cleaner formatting\n",
    "\n",
    "\n",
    "* Display the summary data frame"
   ]
  },
  {
   "cell_type": "code",
   "execution_count": 78,
   "metadata": {},
   "outputs": [
    {
     "data": {
      "text/html": [
       "<style  type=\"text/css\" >\n",
       "</style><table id=\"T_d59c8d11_a5d3_11ea_b404_f48c5010bb88\" ><thead>    <tr>        <th class=\"blank level0\" ></th>        <th class=\"col_heading level0 col0\" >Purchase Count</th>        <th class=\"col_heading level0 col1\" >Average Purchase Price</th>        <th class=\"col_heading level0 col2\" >Total Purchase Value</th>        <th class=\"col_heading level0 col3\" >Avg Total Purchase per Person</th>    </tr>    <tr>        <th class=\"index_name level0\" >Gender</th>        <th class=\"blank\" ></th>        <th class=\"blank\" ></th>        <th class=\"blank\" ></th>        <th class=\"blank\" ></th>    </tr></thead><tbody>\n",
       "                <tr>\n",
       "                        <th id=\"T_d59c8d11_a5d3_11ea_b404_f48c5010bb88level0_row0\" class=\"row_heading level0 row0\" >Female</th>\n",
       "                        <td id=\"T_d59c8d11_a5d3_11ea_b404_f48c5010bb88row0_col0\" class=\"data row0 col0\" >113</td>\n",
       "                        <td id=\"T_d59c8d11_a5d3_11ea_b404_f48c5010bb88row0_col1\" class=\"data row0 col1\" >$3.20</td>\n",
       "                        <td id=\"T_d59c8d11_a5d3_11ea_b404_f48c5010bb88row0_col2\" class=\"data row0 col2\" >$361.94</td>\n",
       "                        <td id=\"T_d59c8d11_a5d3_11ea_b404_f48c5010bb88row0_col3\" class=\"data row0 col3\" >$4.47</td>\n",
       "            </tr>\n",
       "            <tr>\n",
       "                        <th id=\"T_d59c8d11_a5d3_11ea_b404_f48c5010bb88level0_row1\" class=\"row_heading level0 row1\" >Male</th>\n",
       "                        <td id=\"T_d59c8d11_a5d3_11ea_b404_f48c5010bb88row1_col0\" class=\"data row1 col0\" >652</td>\n",
       "                        <td id=\"T_d59c8d11_a5d3_11ea_b404_f48c5010bb88row1_col1\" class=\"data row1 col1\" >$3.02</td>\n",
       "                        <td id=\"T_d59c8d11_a5d3_11ea_b404_f48c5010bb88row1_col2\" class=\"data row1 col2\" >$1,967.64</td>\n",
       "                        <td id=\"T_d59c8d11_a5d3_11ea_b404_f48c5010bb88row1_col3\" class=\"data row1 col3\" >$4.07</td>\n",
       "            </tr>\n",
       "            <tr>\n",
       "                        <th id=\"T_d59c8d11_a5d3_11ea_b404_f48c5010bb88level0_row2\" class=\"row_heading level0 row2\" >Other / Non-Disclosed</th>\n",
       "                        <td id=\"T_d59c8d11_a5d3_11ea_b404_f48c5010bb88row2_col0\" class=\"data row2 col0\" >15</td>\n",
       "                        <td id=\"T_d59c8d11_a5d3_11ea_b404_f48c5010bb88row2_col1\" class=\"data row2 col1\" >$3.35</td>\n",
       "                        <td id=\"T_d59c8d11_a5d3_11ea_b404_f48c5010bb88row2_col2\" class=\"data row2 col2\" >$50.19</td>\n",
       "                        <td id=\"T_d59c8d11_a5d3_11ea_b404_f48c5010bb88row2_col3\" class=\"data row2 col3\" >$4.56</td>\n",
       "            </tr>\n",
       "    </tbody></table>"
      ],
      "text/plain": [
       "<pandas.io.formats.style.Styler at 0x19e0d82db20>"
      ]
     },
     "execution_count": 78,
     "metadata": {},
     "output_type": "execute_result"
    }
   ],
   "source": [
    "calc_df = purchase_data.groupby(['Gender'])\n",
    "average_df = calc_df['Price'].mean()\n",
    "add_df = calc_df['Price'].sum()\n",
    "total_df = calc_df['Price'].count()\n",
    "gender_group_df = purchase_data_new.groupby(['Gender'])\n",
    "total_unique_df = gender_group_df['Price'].count()\n",
    "average_total_pp = add_df / total_unique_df\n",
    "\n",
    "summary_df = pd.DataFrame({'Purchase Count': total_df,\n",
    "                           'Average Purchase Price' : average_df,\n",
    "                           'Total Purchase Value': add_df,\n",
    "                           'Avg Total Purchase per Person': average_total_pp\n",
    "                          })\n",
    "format_dict = {'Average Purchase Price': '${:,.2f}',\n",
    "               'Total Purchase Value': '${:,.2f}',\n",
    "               'Avg Total Purchase per Person': '${:,.2f}',\n",
    "              }\n",
    "summary_df.style.format(format_dict)"
   ]
  },
  {
   "cell_type": "markdown",
   "metadata": {},
   "source": [
    "## Age Demographics"
   ]
  },
  {
   "cell_type": "markdown",
   "metadata": {},
   "source": [
    "* Establish bins for ages\n",
    "\n",
    "\n",
    "* Categorize the existing players using the age bins. Hint: use pd.cut()\n",
    "\n",
    "\n",
    "* Calculate the numbers and percentages by age group\n",
    "\n",
    "\n",
    "* Create a summary data frame to hold the results\n",
    "\n",
    "\n",
    "* Optional: round the percentage column to two decimal points\n",
    "\n",
    "\n",
    "* Display Age Demographics Table\n"
   ]
  },
  {
   "cell_type": "code",
   "execution_count": 65,
   "metadata": {},
   "outputs": [
    {
     "data": {
      "text/html": [
       "<style  type=\"text/css\" >\n",
       "</style><table id=\"T_78475c6f_a5d0_11ea_92be_f48c5010bb88\" ><thead>    <tr>        <th class=\"blank level0\" ></th>        <th class=\"col_heading level0 col0\" >Total Count</th>        <th class=\"col_heading level0 col1\" >Percentage of Players</th>    </tr>    <tr>        <th class=\"index_name level0\" >Age Range</th>        <th class=\"blank\" ></th>        <th class=\"blank\" ></th>    </tr></thead><tbody>\n",
       "                <tr>\n",
       "                        <th id=\"T_78475c6f_a5d0_11ea_92be_f48c5010bb88level0_row0\" class=\"row_heading level0 row0\" ><10</th>\n",
       "                        <td id=\"T_78475c6f_a5d0_11ea_92be_f48c5010bb88row0_col0\" class=\"data row0 col0\" >17</td>\n",
       "                        <td id=\"T_78475c6f_a5d0_11ea_92be_f48c5010bb88row0_col1\" class=\"data row0 col1\" >2.95%</td>\n",
       "            </tr>\n",
       "            <tr>\n",
       "                        <th id=\"T_78475c6f_a5d0_11ea_92be_f48c5010bb88level0_row1\" class=\"row_heading level0 row1\" >10-14</th>\n",
       "                        <td id=\"T_78475c6f_a5d0_11ea_92be_f48c5010bb88row1_col0\" class=\"data row1 col0\" >22</td>\n",
       "                        <td id=\"T_78475c6f_a5d0_11ea_92be_f48c5010bb88row1_col1\" class=\"data row1 col1\" >3.82%</td>\n",
       "            </tr>\n",
       "            <tr>\n",
       "                        <th id=\"T_78475c6f_a5d0_11ea_92be_f48c5010bb88level0_row2\" class=\"row_heading level0 row2\" >15-19</th>\n",
       "                        <td id=\"T_78475c6f_a5d0_11ea_92be_f48c5010bb88row2_col0\" class=\"data row2 col0\" >107</td>\n",
       "                        <td id=\"T_78475c6f_a5d0_11ea_92be_f48c5010bb88row2_col1\" class=\"data row2 col1\" >18.58%</td>\n",
       "            </tr>\n",
       "            <tr>\n",
       "                        <th id=\"T_78475c6f_a5d0_11ea_92be_f48c5010bb88level0_row3\" class=\"row_heading level0 row3\" >20-24</th>\n",
       "                        <td id=\"T_78475c6f_a5d0_11ea_92be_f48c5010bb88row3_col0\" class=\"data row3 col0\" >258</td>\n",
       "                        <td id=\"T_78475c6f_a5d0_11ea_92be_f48c5010bb88row3_col1\" class=\"data row3 col1\" >44.79%</td>\n",
       "            </tr>\n",
       "            <tr>\n",
       "                        <th id=\"T_78475c6f_a5d0_11ea_92be_f48c5010bb88level0_row4\" class=\"row_heading level0 row4\" >25-29</th>\n",
       "                        <td id=\"T_78475c6f_a5d0_11ea_92be_f48c5010bb88row4_col0\" class=\"data row4 col0\" >77</td>\n",
       "                        <td id=\"T_78475c6f_a5d0_11ea_92be_f48c5010bb88row4_col1\" class=\"data row4 col1\" >13.37%</td>\n",
       "            </tr>\n",
       "            <tr>\n",
       "                        <th id=\"T_78475c6f_a5d0_11ea_92be_f48c5010bb88level0_row5\" class=\"row_heading level0 row5\" >30-34</th>\n",
       "                        <td id=\"T_78475c6f_a5d0_11ea_92be_f48c5010bb88row5_col0\" class=\"data row5 col0\" >52</td>\n",
       "                        <td id=\"T_78475c6f_a5d0_11ea_92be_f48c5010bb88row5_col1\" class=\"data row5 col1\" >9.03%</td>\n",
       "            </tr>\n",
       "            <tr>\n",
       "                        <th id=\"T_78475c6f_a5d0_11ea_92be_f48c5010bb88level0_row6\" class=\"row_heading level0 row6\" >35-39</th>\n",
       "                        <td id=\"T_78475c6f_a5d0_11ea_92be_f48c5010bb88row6_col0\" class=\"data row6 col0\" >31</td>\n",
       "                        <td id=\"T_78475c6f_a5d0_11ea_92be_f48c5010bb88row6_col1\" class=\"data row6 col1\" >5.38%</td>\n",
       "            </tr>\n",
       "            <tr>\n",
       "                        <th id=\"T_78475c6f_a5d0_11ea_92be_f48c5010bb88level0_row7\" class=\"row_heading level0 row7\" >40+</th>\n",
       "                        <td id=\"T_78475c6f_a5d0_11ea_92be_f48c5010bb88row7_col0\" class=\"data row7 col0\" >12</td>\n",
       "                        <td id=\"T_78475c6f_a5d0_11ea_92be_f48c5010bb88row7_col1\" class=\"data row7 col1\" >2.08%</td>\n",
       "            </tr>\n",
       "    </tbody></table>"
      ],
      "text/plain": [
       "<pandas.io.formats.style.Styler at 0x19e0d7ca2e0>"
      ]
     },
     "execution_count": 65,
     "metadata": {},
     "output_type": "execute_result"
    }
   ],
   "source": [
    "age_bins = [0, 9.99, 14.99, 19.99, 24.99, 29.99, 34.99, 39.99, 200]\n",
    "group_names = ['<10', '10-14', '15-19', '20-24', '25-29', '30-34', '35-39', '40+']\n",
    "age_range = purchase_data_new\n",
    "age_range['Age Range'] = pd.cut(purchase_data_new['Age'], age_bins, labels = group_names)\n",
    "age_group = age_range.groupby('Age Range').count()\n",
    "age_group = age_group.drop(columns = ['Age', 'Price'])\n",
    "age_group = age_group.rename(index = str , columns = {'Gender' : 'Total Count'})\n",
    "age_group['Percentage of Players'] = age_group['Total Count'] / (age_group['Total Count'].sum())\n",
    "format_dict = {'Percentage of Players': '{:.2%}'}\n",
    "age_group.style.format(format_dict)"
   ]
  },
  {
   "cell_type": "markdown",
   "metadata": {},
   "source": [
    "## Purchasing Analysis (Age)"
   ]
  },
  {
   "cell_type": "markdown",
   "metadata": {},
   "source": [
    "* Bin the purchase_data data frame by age\n",
    "\n",
    "\n",
    "* Run basic calculations to obtain purchase count, avg. purchase price, avg. purchase total per person etc. in the table below\n",
    "\n",
    "\n",
    "* Create a summary data frame to hold the results\n",
    "\n",
    "\n",
    "* Optional: give the displayed data cleaner formatting\n",
    "\n",
    "\n",
    "* Display the summary data frame"
   ]
  },
  {
   "cell_type": "code",
   "execution_count": 66,
   "metadata": {},
   "outputs": [
    {
     "data": {
      "text/html": [
       "<style  type=\"text/css\" >\n",
       "</style><table id=\"T_a61d1d20_a5d0_11ea_95c6_f48c5010bb88\" ><thead>    <tr>        <th class=\"blank level0\" ></th>        <th class=\"col_heading level0 col0\" >Purchase Count</th>        <th class=\"col_heading level0 col1\" >Average Purchase Price</th>        <th class=\"col_heading level0 col2\" >Total Purchase Value</th>        <th class=\"col_heading level0 col3\" >Avg Total Purchase per Person</th>    </tr>    <tr>        <th class=\"index_name level0\" >Age Range</th>        <th class=\"blank\" ></th>        <th class=\"blank\" ></th>        <th class=\"blank\" ></th>        <th class=\"blank\" ></th>    </tr></thead><tbody>\n",
       "                <tr>\n",
       "                        <th id=\"T_a61d1d20_a5d0_11ea_95c6_f48c5010bb88level0_row0\" class=\"row_heading level0 row0\" ><10</th>\n",
       "                        <td id=\"T_a61d1d20_a5d0_11ea_95c6_f48c5010bb88row0_col0\" class=\"data row0 col0\" >23</td>\n",
       "                        <td id=\"T_a61d1d20_a5d0_11ea_95c6_f48c5010bb88row0_col1\" class=\"data row0 col1\" >$3.35</td>\n",
       "                        <td id=\"T_a61d1d20_a5d0_11ea_95c6_f48c5010bb88row0_col2\" class=\"data row0 col2\" >$77.13</td>\n",
       "                        <td id=\"T_a61d1d20_a5d0_11ea_95c6_f48c5010bb88row0_col3\" class=\"data row0 col3\" >$4.54</td>\n",
       "            </tr>\n",
       "            <tr>\n",
       "                        <th id=\"T_a61d1d20_a5d0_11ea_95c6_f48c5010bb88level0_row1\" class=\"row_heading level0 row1\" >10-14</th>\n",
       "                        <td id=\"T_a61d1d20_a5d0_11ea_95c6_f48c5010bb88row1_col0\" class=\"data row1 col0\" >28</td>\n",
       "                        <td id=\"T_a61d1d20_a5d0_11ea_95c6_f48c5010bb88row1_col1\" class=\"data row1 col1\" >$2.96</td>\n",
       "                        <td id=\"T_a61d1d20_a5d0_11ea_95c6_f48c5010bb88row1_col2\" class=\"data row1 col2\" >$82.78</td>\n",
       "                        <td id=\"T_a61d1d20_a5d0_11ea_95c6_f48c5010bb88row1_col3\" class=\"data row1 col3\" >$3.76</td>\n",
       "            </tr>\n",
       "            <tr>\n",
       "                        <th id=\"T_a61d1d20_a5d0_11ea_95c6_f48c5010bb88level0_row2\" class=\"row_heading level0 row2\" >15-19</th>\n",
       "                        <td id=\"T_a61d1d20_a5d0_11ea_95c6_f48c5010bb88row2_col0\" class=\"data row2 col0\" >136</td>\n",
       "                        <td id=\"T_a61d1d20_a5d0_11ea_95c6_f48c5010bb88row2_col1\" class=\"data row2 col1\" >$3.04</td>\n",
       "                        <td id=\"T_a61d1d20_a5d0_11ea_95c6_f48c5010bb88row2_col2\" class=\"data row2 col2\" >$412.89</td>\n",
       "                        <td id=\"T_a61d1d20_a5d0_11ea_95c6_f48c5010bb88row2_col3\" class=\"data row2 col3\" >$3.86</td>\n",
       "            </tr>\n",
       "            <tr>\n",
       "                        <th id=\"T_a61d1d20_a5d0_11ea_95c6_f48c5010bb88level0_row3\" class=\"row_heading level0 row3\" >20-24</th>\n",
       "                        <td id=\"T_a61d1d20_a5d0_11ea_95c6_f48c5010bb88row3_col0\" class=\"data row3 col0\" >365</td>\n",
       "                        <td id=\"T_a61d1d20_a5d0_11ea_95c6_f48c5010bb88row3_col1\" class=\"data row3 col1\" >$3.05</td>\n",
       "                        <td id=\"T_a61d1d20_a5d0_11ea_95c6_f48c5010bb88row3_col2\" class=\"data row3 col2\" >$1,114.06</td>\n",
       "                        <td id=\"T_a61d1d20_a5d0_11ea_95c6_f48c5010bb88row3_col3\" class=\"data row3 col3\" >$4.32</td>\n",
       "            </tr>\n",
       "            <tr>\n",
       "                        <th id=\"T_a61d1d20_a5d0_11ea_95c6_f48c5010bb88level0_row4\" class=\"row_heading level0 row4\" >25-29</th>\n",
       "                        <td id=\"T_a61d1d20_a5d0_11ea_95c6_f48c5010bb88row4_col0\" class=\"data row4 col0\" >101</td>\n",
       "                        <td id=\"T_a61d1d20_a5d0_11ea_95c6_f48c5010bb88row4_col1\" class=\"data row4 col1\" >$2.90</td>\n",
       "                        <td id=\"T_a61d1d20_a5d0_11ea_95c6_f48c5010bb88row4_col2\" class=\"data row4 col2\" >$293.00</td>\n",
       "                        <td id=\"T_a61d1d20_a5d0_11ea_95c6_f48c5010bb88row4_col3\" class=\"data row4 col3\" >$3.81</td>\n",
       "            </tr>\n",
       "            <tr>\n",
       "                        <th id=\"T_a61d1d20_a5d0_11ea_95c6_f48c5010bb88level0_row5\" class=\"row_heading level0 row5\" >30-34</th>\n",
       "                        <td id=\"T_a61d1d20_a5d0_11ea_95c6_f48c5010bb88row5_col0\" class=\"data row5 col0\" >73</td>\n",
       "                        <td id=\"T_a61d1d20_a5d0_11ea_95c6_f48c5010bb88row5_col1\" class=\"data row5 col1\" >$2.93</td>\n",
       "                        <td id=\"T_a61d1d20_a5d0_11ea_95c6_f48c5010bb88row5_col2\" class=\"data row5 col2\" >$214.00</td>\n",
       "                        <td id=\"T_a61d1d20_a5d0_11ea_95c6_f48c5010bb88row5_col3\" class=\"data row5 col3\" >$4.12</td>\n",
       "            </tr>\n",
       "            <tr>\n",
       "                        <th id=\"T_a61d1d20_a5d0_11ea_95c6_f48c5010bb88level0_row6\" class=\"row_heading level0 row6\" >35-39</th>\n",
       "                        <td id=\"T_a61d1d20_a5d0_11ea_95c6_f48c5010bb88row6_col0\" class=\"data row6 col0\" >41</td>\n",
       "                        <td id=\"T_a61d1d20_a5d0_11ea_95c6_f48c5010bb88row6_col1\" class=\"data row6 col1\" >$3.60</td>\n",
       "                        <td id=\"T_a61d1d20_a5d0_11ea_95c6_f48c5010bb88row6_col2\" class=\"data row6 col2\" >$147.67</td>\n",
       "                        <td id=\"T_a61d1d20_a5d0_11ea_95c6_f48c5010bb88row6_col3\" class=\"data row6 col3\" >$4.76</td>\n",
       "            </tr>\n",
       "            <tr>\n",
       "                        <th id=\"T_a61d1d20_a5d0_11ea_95c6_f48c5010bb88level0_row7\" class=\"row_heading level0 row7\" >40+</th>\n",
       "                        <td id=\"T_a61d1d20_a5d0_11ea_95c6_f48c5010bb88row7_col0\" class=\"data row7 col0\" >13</td>\n",
       "                        <td id=\"T_a61d1d20_a5d0_11ea_95c6_f48c5010bb88row7_col1\" class=\"data row7 col1\" >$2.94</td>\n",
       "                        <td id=\"T_a61d1d20_a5d0_11ea_95c6_f48c5010bb88row7_col2\" class=\"data row7 col2\" >$38.24</td>\n",
       "                        <td id=\"T_a61d1d20_a5d0_11ea_95c6_f48c5010bb88row7_col3\" class=\"data row7 col3\" >$3.19</td>\n",
       "            </tr>\n",
       "    </tbody></table>"
      ],
      "text/plain": [
       "<pandas.io.formats.style.Styler at 0x19e0a5d3af0>"
      ]
     },
     "execution_count": 66,
     "metadata": {},
     "output_type": "execute_result"
    }
   ],
   "source": [
    "age_group_df = purchase_data_new.groupby(['Age Range'])\n",
    "total_unique_df2 = age_group_df['Price'].count()\n",
    "\n",
    "age_range2 = purchase_data\n",
    "age_range2['Age Range'] = pd.cut(purchase_data['Age'], age_bins, labels = group_names)\n",
    "age_calc = age_range2.groupby(['Age Range'])\n",
    "age_add = age_calc['Price'].sum()\n",
    "age_total = age_calc['Price'].count()\n",
    "age_avg = age_calc['Price'].mean()\n",
    "average_total_pp_age = age_add / total_unique_df2\n",
    "\n",
    "summary_age = pd.DataFrame({'Purchase Count': age_total,\n",
    "                            'Average Purchase Price' : age_avg,\n",
    "                            'Total Purchase Value': age_add,\n",
    "                            'Avg Total Purchase per Person': average_total_pp_age\n",
    "                           })\n",
    "format_dict = {'Average Purchase Price': '${:,.2f}',\n",
    "               'Total Purchase Value': '${:,.2f}',\n",
    "               'Avg Total Purchase per Person': '${:,.2f}'\n",
    "              }\n",
    "summary_age.style.format(format_dict)"
   ]
  },
  {
   "cell_type": "markdown",
   "metadata": {},
   "source": [
    "## Top Spenders"
   ]
  },
  {
   "cell_type": "markdown",
   "metadata": {},
   "source": [
    "* Run basic calculations to obtain the results in the table below\n",
    "\n",
    "\n",
    "* Create a summary data frame to hold the results\n",
    "\n",
    "\n",
    "* Sort the total purchase value column in descending order\n",
    "\n",
    "\n",
    "* Optional: give the displayed data cleaner formatting\n",
    "\n",
    "\n",
    "* Display a preview of the summary data frame\n",
    "\n"
   ]
  },
  {
   "cell_type": "code",
   "execution_count": 70,
   "metadata": {},
   "outputs": [
    {
     "data": {
      "text/html": [
       "<style  type=\"text/css\" >\n",
       "</style><table id=\"T_244ea618_a5d1_11ea_80d2_f48c5010bb88\" ><thead>    <tr>        <th class=\"blank level0\" ></th>        <th class=\"col_heading level0 col0\" >Purchase Count</th>        <th class=\"col_heading level0 col1\" >Average Purchase Price</th>        <th class=\"col_heading level0 col2\" >Total Purchase Value</th>    </tr>    <tr>        <th class=\"index_name level0\" >SN</th>        <th class=\"blank\" ></th>        <th class=\"blank\" ></th>        <th class=\"blank\" ></th>    </tr></thead><tbody>\n",
       "                <tr>\n",
       "                        <th id=\"T_244ea618_a5d1_11ea_80d2_f48c5010bb88level0_row0\" class=\"row_heading level0 row0\" >Lisosia93</th>\n",
       "                        <td id=\"T_244ea618_a5d1_11ea_80d2_f48c5010bb88row0_col0\" class=\"data row0 col0\" >5</td>\n",
       "                        <td id=\"T_244ea618_a5d1_11ea_80d2_f48c5010bb88row0_col1\" class=\"data row0 col1\" >$3.79</td>\n",
       "                        <td id=\"T_244ea618_a5d1_11ea_80d2_f48c5010bb88row0_col2\" class=\"data row0 col2\" >$18.96</td>\n",
       "            </tr>\n",
       "            <tr>\n",
       "                        <th id=\"T_244ea618_a5d1_11ea_80d2_f48c5010bb88level0_row1\" class=\"row_heading level0 row1\" >Idastidru52</th>\n",
       "                        <td id=\"T_244ea618_a5d1_11ea_80d2_f48c5010bb88row1_col0\" class=\"data row1 col0\" >4</td>\n",
       "                        <td id=\"T_244ea618_a5d1_11ea_80d2_f48c5010bb88row1_col1\" class=\"data row1 col1\" >$3.86</td>\n",
       "                        <td id=\"T_244ea618_a5d1_11ea_80d2_f48c5010bb88row1_col2\" class=\"data row1 col2\" >$15.45</td>\n",
       "            </tr>\n",
       "            <tr>\n",
       "                        <th id=\"T_244ea618_a5d1_11ea_80d2_f48c5010bb88level0_row2\" class=\"row_heading level0 row2\" >Chamjask73</th>\n",
       "                        <td id=\"T_244ea618_a5d1_11ea_80d2_f48c5010bb88row2_col0\" class=\"data row2 col0\" >3</td>\n",
       "                        <td id=\"T_244ea618_a5d1_11ea_80d2_f48c5010bb88row2_col1\" class=\"data row2 col1\" >$4.61</td>\n",
       "                        <td id=\"T_244ea618_a5d1_11ea_80d2_f48c5010bb88row2_col2\" class=\"data row2 col2\" >$13.83</td>\n",
       "            </tr>\n",
       "            <tr>\n",
       "                        <th id=\"T_244ea618_a5d1_11ea_80d2_f48c5010bb88level0_row3\" class=\"row_heading level0 row3\" >Iral74</th>\n",
       "                        <td id=\"T_244ea618_a5d1_11ea_80d2_f48c5010bb88row3_col0\" class=\"data row3 col0\" >4</td>\n",
       "                        <td id=\"T_244ea618_a5d1_11ea_80d2_f48c5010bb88row3_col1\" class=\"data row3 col1\" >$3.40</td>\n",
       "                        <td id=\"T_244ea618_a5d1_11ea_80d2_f48c5010bb88row3_col2\" class=\"data row3 col2\" >$13.62</td>\n",
       "            </tr>\n",
       "            <tr>\n",
       "                        <th id=\"T_244ea618_a5d1_11ea_80d2_f48c5010bb88level0_row4\" class=\"row_heading level0 row4\" >Iskadarya95</th>\n",
       "                        <td id=\"T_244ea618_a5d1_11ea_80d2_f48c5010bb88row4_col0\" class=\"data row4 col0\" >3</td>\n",
       "                        <td id=\"T_244ea618_a5d1_11ea_80d2_f48c5010bb88row4_col1\" class=\"data row4 col1\" >$4.37</td>\n",
       "                        <td id=\"T_244ea618_a5d1_11ea_80d2_f48c5010bb88row4_col2\" class=\"data row4 col2\" >$13.10</td>\n",
       "            </tr>\n",
       "    </tbody></table>"
      ],
      "text/plain": [
       "<pandas.io.formats.style.Styler at 0x19e0d7cf970>"
      ]
     },
     "execution_count": 70,
     "metadata": {},
     "output_type": "execute_result"
    }
   ],
   "source": [
    "sn_group = purchase_data.groupby('SN')\n",
    "sn_add = sn_group['Price'].sum()\n",
    "sn_total = sn_group['Price'].count()\n",
    "sn_avg = sn_add / sn_total\n",
    "sn_summary = pd.DataFrame({'Purchase Count': sn_total,\n",
    "                           'Average Purchase Price': sn_avg,\n",
    "                           'Total Purchase Value': sn_add,\n",
    "                          })\n",
    "sort_df = sn_summary.sort_values(['Total Purchase Value'], ascending = False)\n",
    "sort_df.reset_index(inplace = False)\n",
    "sort_preview = sort_df.head()\n",
    "format_dict = {'Average Purchase Price': '${:,.2f}',\n",
    "               'Total Purchase Value': '${:,.2f}'\n",
    "              }\n",
    "sort_preview.style.format(format_dict)"
   ]
  },
  {
   "cell_type": "markdown",
   "metadata": {},
   "source": [
    "## Most Popular Items"
   ]
  },
  {
   "cell_type": "markdown",
   "metadata": {},
   "source": [
    "* Retrieve the Item ID, Item Name, and Item Price columns\n",
    "\n",
    "\n",
    "* Group by Item ID and Item Name. Perform calculations to obtain purchase count, item price, and total purchase value\n",
    "\n",
    "\n",
    "* Create a summary data frame to hold the results\n",
    "\n",
    "\n",
    "* Sort the purchase count column in descending order\n",
    "\n",
    "\n",
    "* Optional: give the displayed data cleaner formatting\n",
    "\n",
    "\n",
    "* Display a preview of the summary data frame\n",
    "\n"
   ]
  },
  {
   "cell_type": "code",
   "execution_count": 71,
   "metadata": {},
   "outputs": [
    {
     "data": {
      "text/html": [
       "<style  type=\"text/css\" >\n",
       "</style><table id=\"T_59894d4d_a5d1_11ea_891b_f48c5010bb88\" ><thead>    <tr>        <th class=\"blank\" ></th>        <th class=\"blank level0\" ></th>        <th class=\"col_heading level0 col0\" >Purchase Count</th>        <th class=\"col_heading level0 col1\" >Item Price</th>        <th class=\"col_heading level0 col2\" >Total Purchase Value</th>    </tr>    <tr>        <th class=\"index_name level0\" >Item ID</th>        <th class=\"index_name level1\" >Item Name</th>        <th class=\"blank\" ></th>        <th class=\"blank\" ></th>        <th class=\"blank\" ></th>    </tr></thead><tbody>\n",
       "                <tr>\n",
       "                        <th id=\"T_59894d4d_a5d1_11ea_891b_f48c5010bb88level0_row0\" class=\"row_heading level0 row0\" >92</th>\n",
       "                        <th id=\"T_59894d4d_a5d1_11ea_891b_f48c5010bb88level1_row0\" class=\"row_heading level1 row0\" >Final Critic</th>\n",
       "                        <td id=\"T_59894d4d_a5d1_11ea_891b_f48c5010bb88row0_col0\" class=\"data row0 col0\" >13</td>\n",
       "                        <td id=\"T_59894d4d_a5d1_11ea_891b_f48c5010bb88row0_col1\" class=\"data row0 col1\" >$4.88</td>\n",
       "                        <td id=\"T_59894d4d_a5d1_11ea_891b_f48c5010bb88row0_col2\" class=\"data row0 col2\" >$59.99</td>\n",
       "            </tr>\n",
       "            <tr>\n",
       "                        <th id=\"T_59894d4d_a5d1_11ea_891b_f48c5010bb88level0_row1\" class=\"row_heading level0 row1\" >178</th>\n",
       "                        <th id=\"T_59894d4d_a5d1_11ea_891b_f48c5010bb88level1_row1\" class=\"row_heading level1 row1\" >Oathbreaker, Last Hope of the Breaking Storm</th>\n",
       "                        <td id=\"T_59894d4d_a5d1_11ea_891b_f48c5010bb88row1_col0\" class=\"data row1 col0\" >12</td>\n",
       "                        <td id=\"T_59894d4d_a5d1_11ea_891b_f48c5010bb88row1_col1\" class=\"data row1 col1\" >$4.23</td>\n",
       "                        <td id=\"T_59894d4d_a5d1_11ea_891b_f48c5010bb88row1_col2\" class=\"data row1 col2\" >$50.76</td>\n",
       "            </tr>\n",
       "            <tr>\n",
       "                        <th id=\"T_59894d4d_a5d1_11ea_891b_f48c5010bb88level0_row2\" class=\"row_heading level0 row2\" >145</th>\n",
       "                        <th id=\"T_59894d4d_a5d1_11ea_891b_f48c5010bb88level1_row2\" class=\"row_heading level1 row2\" >Fiery Glass Crusader</th>\n",
       "                        <td id=\"T_59894d4d_a5d1_11ea_891b_f48c5010bb88row2_col0\" class=\"data row2 col0\" >9</td>\n",
       "                        <td id=\"T_59894d4d_a5d1_11ea_891b_f48c5010bb88row2_col1\" class=\"data row2 col1\" >$4.58</td>\n",
       "                        <td id=\"T_59894d4d_a5d1_11ea_891b_f48c5010bb88row2_col2\" class=\"data row2 col2\" >$41.22</td>\n",
       "            </tr>\n",
       "            <tr>\n",
       "                        <th id=\"T_59894d4d_a5d1_11ea_891b_f48c5010bb88level0_row3\" class=\"row_heading level0 row3\" >132</th>\n",
       "                        <th id=\"T_59894d4d_a5d1_11ea_891b_f48c5010bb88level1_row3\" class=\"row_heading level1 row3\" >Persuasion</th>\n",
       "                        <td id=\"T_59894d4d_a5d1_11ea_891b_f48c5010bb88row3_col0\" class=\"data row3 col0\" >9</td>\n",
       "                        <td id=\"T_59894d4d_a5d1_11ea_891b_f48c5010bb88row3_col1\" class=\"data row3 col1\" >$3.19</td>\n",
       "                        <td id=\"T_59894d4d_a5d1_11ea_891b_f48c5010bb88row3_col2\" class=\"data row3 col2\" >$28.99</td>\n",
       "            </tr>\n",
       "            <tr>\n",
       "                        <th id=\"T_59894d4d_a5d1_11ea_891b_f48c5010bb88level0_row4\" class=\"row_heading level0 row4\" >108</th>\n",
       "                        <th id=\"T_59894d4d_a5d1_11ea_891b_f48c5010bb88level1_row4\" class=\"row_heading level1 row4\" >Extraction, Quickblade Of Trembling Hands</th>\n",
       "                        <td id=\"T_59894d4d_a5d1_11ea_891b_f48c5010bb88row4_col0\" class=\"data row4 col0\" >9</td>\n",
       "                        <td id=\"T_59894d4d_a5d1_11ea_891b_f48c5010bb88row4_col1\" class=\"data row4 col1\" >$3.53</td>\n",
       "                        <td id=\"T_59894d4d_a5d1_11ea_891b_f48c5010bb88row4_col2\" class=\"data row4 col2\" >$31.77</td>\n",
       "            </tr>\n",
       "    </tbody></table>"
      ],
      "text/plain": [
       "<pandas.io.formats.style.Styler at 0x19e0d80bbe0>"
      ]
     },
     "execution_count": 71,
     "metadata": {},
     "output_type": "execute_result"
    }
   ],
   "source": [
    "popular_df = purchase_data.groupby(['Item ID', 'Item Name'])\n",
    "price_df = popular_df['Price'].first()\n",
    "total_price = popular_df['Price'].sum()\n",
    "count_price = popular_df['Price'].count()\n",
    "item_summary = pd.DataFrame({'Purchase Count': count_price,\n",
    "                             'Item Price': price_df,\n",
    "                             'Total Purchase Value': total_price,\n",
    "                            })\n",
    "sort_item_sum = item_summary.sort_values(['Purchase Count'], ascending = False)\n",
    "item_preview = sort_item_sum.head()\n",
    "format_dict = {'Item Price': '${:,.2f}',\n",
    "               'Total Purchase Value': '${:,.2f}'\n",
    "              }\n",
    "item_preview.style.format(format_dict)"
   ]
  },
  {
   "cell_type": "markdown",
   "metadata": {},
   "source": [
    "## Most Profitable Items"
   ]
  },
  {
   "cell_type": "markdown",
   "metadata": {},
   "source": [
    "* Sort the above table by total purchase value in descending order\n",
    "\n",
    "\n",
    "* Optional: give the displayed data cleaner formatting\n",
    "\n",
    "\n",
    "* Display a preview of the data frame\n",
    "\n"
   ]
  },
  {
   "cell_type": "code",
   "execution_count": 72,
   "metadata": {},
   "outputs": [
    {
     "data": {
      "text/html": [
       "<style  type=\"text/css\" >\n",
       "</style><table id=\"T_7dee8bbd_a5d1_11ea_9345_f48c5010bb88\" ><thead>    <tr>        <th class=\"blank\" ></th>        <th class=\"blank level0\" ></th>        <th class=\"col_heading level0 col0\" >Purchase Count</th>        <th class=\"col_heading level0 col1\" >Item Price</th>        <th class=\"col_heading level0 col2\" >Total Purchase Value</th>    </tr>    <tr>        <th class=\"index_name level0\" >Item ID</th>        <th class=\"index_name level1\" >Item Name</th>        <th class=\"blank\" ></th>        <th class=\"blank\" ></th>        <th class=\"blank\" ></th>    </tr></thead><tbody>\n",
       "                <tr>\n",
       "                        <th id=\"T_7dee8bbd_a5d1_11ea_9345_f48c5010bb88level0_row0\" class=\"row_heading level0 row0\" >92</th>\n",
       "                        <th id=\"T_7dee8bbd_a5d1_11ea_9345_f48c5010bb88level1_row0\" class=\"row_heading level1 row0\" >Final Critic</th>\n",
       "                        <td id=\"T_7dee8bbd_a5d1_11ea_9345_f48c5010bb88row0_col0\" class=\"data row0 col0\" >13</td>\n",
       "                        <td id=\"T_7dee8bbd_a5d1_11ea_9345_f48c5010bb88row0_col1\" class=\"data row0 col1\" >$4.88</td>\n",
       "                        <td id=\"T_7dee8bbd_a5d1_11ea_9345_f48c5010bb88row0_col2\" class=\"data row0 col2\" >$59.99</td>\n",
       "            </tr>\n",
       "            <tr>\n",
       "                        <th id=\"T_7dee8bbd_a5d1_11ea_9345_f48c5010bb88level0_row1\" class=\"row_heading level0 row1\" >178</th>\n",
       "                        <th id=\"T_7dee8bbd_a5d1_11ea_9345_f48c5010bb88level1_row1\" class=\"row_heading level1 row1\" >Oathbreaker, Last Hope of the Breaking Storm</th>\n",
       "                        <td id=\"T_7dee8bbd_a5d1_11ea_9345_f48c5010bb88row1_col0\" class=\"data row1 col0\" >12</td>\n",
       "                        <td id=\"T_7dee8bbd_a5d1_11ea_9345_f48c5010bb88row1_col1\" class=\"data row1 col1\" >$4.23</td>\n",
       "                        <td id=\"T_7dee8bbd_a5d1_11ea_9345_f48c5010bb88row1_col2\" class=\"data row1 col2\" >$50.76</td>\n",
       "            </tr>\n",
       "            <tr>\n",
       "                        <th id=\"T_7dee8bbd_a5d1_11ea_9345_f48c5010bb88level0_row2\" class=\"row_heading level0 row2\" >82</th>\n",
       "                        <th id=\"T_7dee8bbd_a5d1_11ea_9345_f48c5010bb88level1_row2\" class=\"row_heading level1 row2\" >Nirvana</th>\n",
       "                        <td id=\"T_7dee8bbd_a5d1_11ea_9345_f48c5010bb88row2_col0\" class=\"data row2 col0\" >9</td>\n",
       "                        <td id=\"T_7dee8bbd_a5d1_11ea_9345_f48c5010bb88row2_col1\" class=\"data row2 col1\" >$4.90</td>\n",
       "                        <td id=\"T_7dee8bbd_a5d1_11ea_9345_f48c5010bb88row2_col2\" class=\"data row2 col2\" >$44.10</td>\n",
       "            </tr>\n",
       "            <tr>\n",
       "                        <th id=\"T_7dee8bbd_a5d1_11ea_9345_f48c5010bb88level0_row3\" class=\"row_heading level0 row3\" >145</th>\n",
       "                        <th id=\"T_7dee8bbd_a5d1_11ea_9345_f48c5010bb88level1_row3\" class=\"row_heading level1 row3\" >Fiery Glass Crusader</th>\n",
       "                        <td id=\"T_7dee8bbd_a5d1_11ea_9345_f48c5010bb88row3_col0\" class=\"data row3 col0\" >9</td>\n",
       "                        <td id=\"T_7dee8bbd_a5d1_11ea_9345_f48c5010bb88row3_col1\" class=\"data row3 col1\" >$4.58</td>\n",
       "                        <td id=\"T_7dee8bbd_a5d1_11ea_9345_f48c5010bb88row3_col2\" class=\"data row3 col2\" >$41.22</td>\n",
       "            </tr>\n",
       "            <tr>\n",
       "                        <th id=\"T_7dee8bbd_a5d1_11ea_9345_f48c5010bb88level0_row4\" class=\"row_heading level0 row4\" >103</th>\n",
       "                        <th id=\"T_7dee8bbd_a5d1_11ea_9345_f48c5010bb88level1_row4\" class=\"row_heading level1 row4\" >Singed Scalpel</th>\n",
       "                        <td id=\"T_7dee8bbd_a5d1_11ea_9345_f48c5010bb88row4_col0\" class=\"data row4 col0\" >8</td>\n",
       "                        <td id=\"T_7dee8bbd_a5d1_11ea_9345_f48c5010bb88row4_col1\" class=\"data row4 col1\" >$4.35</td>\n",
       "                        <td id=\"T_7dee8bbd_a5d1_11ea_9345_f48c5010bb88row4_col2\" class=\"data row4 col2\" >$34.80</td>\n",
       "            </tr>\n",
       "    </tbody></table>"
      ],
      "text/plain": [
       "<pandas.io.formats.style.Styler at 0x19e0d82dc70>"
      ]
     },
     "execution_count": 72,
     "metadata": {},
     "output_type": "execute_result"
    }
   ],
   "source": [
    "profit_df  = item_summary.sort_values([\"Total Purchase Value\"], ascending = False)\n",
    "prof_preview = profit_df.head()\n",
    "format_dict = {'Item Price': '${:,.2f}',\n",
    "               'Total Purchase Value': '${:,.2f}'\n",
    "              }\n",
    "prof_preview.style.format(format_dict)"
   ]
  }
 ],
 "metadata": {
  "anaconda-cloud": {},
  "kernel_info": {
   "name": "python3"
  },
  "kernelspec": {
   "display_name": "Python [conda env:PythonData] *",
   "language": "python",
   "name": "conda-env-PythonData-py"
  },
  "language_info": {
   "codemirror_mode": {
    "name": "ipython",
    "version": 3
   },
   "file_extension": ".py",
   "mimetype": "text/x-python",
   "name": "python",
   "nbconvert_exporter": "python",
   "pygments_lexer": "ipython3",
   "version": "3.8.2"
  },
  "latex_envs": {
   "LaTeX_envs_menu_present": true,
   "autoclose": false,
   "autocomplete": true,
   "bibliofile": "biblio.bib",
   "cite_by": "apalike",
   "current_citInitial": 1,
   "eqLabelWithNumbers": true,
   "eqNumInitial": 1,
   "hotkeys": {
    "equation": "Ctrl-E",
    "itemize": "Ctrl-I"
   },
   "labels_anchors": false,
   "latex_user_defs": false,
   "report_style_numbering": false,
   "user_envs_cfg": false
  },
  "nteract": {
   "version": "0.2.0"
  }
 },
 "nbformat": 4,
 "nbformat_minor": 2
}
